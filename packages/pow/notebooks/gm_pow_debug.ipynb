{
 "cells": [
  {
   "cell_type": "code",
   "execution_count": 1,
   "metadata": {},
   "outputs": [],
   "source": [
    "%load_ext autoreload\n",
    "%autoreload 2"
   ]
  },
  {
   "cell_type": "code",
   "execution_count": 2,
   "metadata": {},
   "outputs": [],
   "source": [
    "from tqdm.auto import tqdm\n",
    "from pow.compute.compute import (\n",
    "    Compute,\n",
    "    ProofBatch\n",
    ")\n",
    "\n",
    "BLOCK_HASH = \"some-shared-hash\"\n",
    "PUBLIC_KEY = \"public_key_1\"\n",
    "VALIDATOR_PUBLIC_KEY = \"validator_public_key_1\"\n",
    "R_ESTIMATED = 1.39635417620795"
   ]
  },
  {
   "cell_type": "code",
   "execution_count": 3,
   "metadata": {},
   "outputs": [],
   "source": [
    "from pow.random import get_permutations\n",
    "from pow.random import get_target\n",
    "from pow.random import get_random_emb, get_inputs\n",
    "\n",
    "import numpy as np"
   ]
  },
  {
   "cell_type": "code",
   "execution_count": null,
   "metadata": {},
   "outputs": [],
   "source": [
    "embeddings = get_random_emb(\n",
    "    seed_string=BLOCK_HASH + PUBLIC_KEY,\n",
    "    batch_size=1,\n",
    "    seq_len=16,\n",
    "    dim=4096\n",
    ")\n",
    "\n",
    "# permutations = get_permutations(\n",
    "#     hash_str=BLOCK_HASH,\n",
    "#     public_key=PUBLIC_KEY,\n",
    "#     nonces=[1, 2, 3],\n",
    "# )"
   ]
  },
  {
   "cell_type": "code",
   "execution_count": 20,
   "metadata": {},
   "outputs": [],
   "source": [
    "inputs = get_inputs(\n",
    "    hash_str=BLOCK_HASH,\n",
    "    public_key=PUBLIC_KEY,\n",
    "    nonces=[1, 2, 3],\n",
    "    use_cuda=False\n",
    ")"
   ]
  },
  {
   "cell_type": "code",
   "execution_count": 23,
   "metadata": {},
   "outputs": [],
   "source": [
    "outputs = inputs[:, -1, :].cpu().numpy()\n",
    "outputs1 = inputs[:, -1, :].cpu().numpy()"
   ]
  },
  {
   "cell_type": "code",
   "execution_count": 24,
   "metadata": {},
   "outputs": [],
   "source": [
    "permutations = get_permutations(\n",
    "    hash_str=BLOCK_HASH,\n",
    "    public_key=PUBLIC_KEY,\n",
    "    nonces=[1, 2, 3],\n",
    ")\n"
   ]
  },
  {
   "cell_type": "code",
   "execution_count": 26,
   "metadata": {},
   "outputs": [],
   "source": [
    "batch_indices = np.arange(outputs.shape[0])[:, None]\n",
    "outputs = outputs[batch_indices, permutations]"
   ]
  },
  {
   "cell_type": "code",
   "execution_count": null,
   "metadata": {},
   "outputs": [],
   "source": [
    "outputs1[0].sum()"
   ]
  },
  {
   "cell_type": "code",
   "execution_count": null,
   "metadata": {},
   "outputs": [],
   "source": [
    "outputs[0]"
   ]
  },
  {
   "cell_type": "code",
   "execution_count": null,
   "metadata": {},
   "outputs": [],
   "source": [
    "permutations[0]"
   ]
  },
  {
   "cell_type": "code",
   "execution_count": 3,
   "metadata": {},
   "outputs": [],
   "source": [
    "from pow.random import get_inputs"
   ]
  },
  {
   "cell_type": "code",
   "execution_count": 4,
   "metadata": {},
   "outputs": [],
   "source": [
    "inputs = get_inputs(\n",
    "    \"sdc\",\n",
    "    \"asd\",\n",
    "    [1, 2, 3],\n",
    "    dim=4096,\n",
    "    use_cuda=False\n",
    ")"
   ]
  },
  {
   "cell_type": "code",
   "execution_count": 7,
   "metadata": {},
   "outputs": [],
   "source": [
    "nonce_batches = [[0, 1], [2]]\n",
    "\n",
    "inputs_ = [\n",
    "    get_inputs(\n",
    "        \"sdc\",\n",
    "        \"asd\",\n",
    "        nonce_batch,\n",
    "        dim=4096,\n",
    "        use_cuda=False\n",
    "    )\n",
    "    for nonce_batch in nonce_batches\n",
    "]"
   ]
  },
  {
   "cell_type": "code",
   "execution_count": 9,
   "metadata": {},
   "outputs": [],
   "source": [
    "import torch "
   ]
  },
  {
   "cell_type": "code",
   "execution_count": 12,
   "metadata": {},
   "outputs": [],
   "source": [
    "import numpy as np"
   ]
  },
  {
   "cell_type": "code",
   "execution_count": null,
   "metadata": {},
   "outputs": [],
   "source": [
    "from concurrent.futures import ThreadPoolExecutor\n",
    "\n",
    "executor = ThreadPoolExecutor(max_workers=2)\n",
    "\n",
    "def get_inputs_batch(nonce_batch):\n",
    "    return get_inputs(\n",
    "        \"sdc\",\n",
    "        \"asd\",\n",
    "        nonce_batch,\n",
    "        dim=4096,\n",
    "        use_cuda=False\n",
    "    )\n",
    "inputs = executor.map(\n",
    "    get_inputs_batch,\n",
    "    nonce_batches\n",
    ")\n",
    "inputs = torch.cat(\n",
    "    list(inputs),\n",
    "    dim=0\n",
    ")\n",
    "print(inputs.shape)"
   ]
  },
  {
   "cell_type": "code",
   "execution_count": 1,
   "metadata": {},
   "outputs": [],
   "source": [
    "%load_ext autoreload\n",
    "%autoreload 2\n"
   ]
  },
  {
   "cell_type": "code",
   "execution_count": 8,
   "metadata": {},
   "outputs": [],
   "source": [
    "\n",
    "import time\n",
    "from pow.compute.compute import Stats\n",
    "stats = Stats()\n",
    "\n",
    "with stats.time_stats.time_gen_perms():\n",
    "    time.sleep(1)\n",
    "with stats.time_stats.time_perm():\n",
    "    time.sleep(1)\n",
    "    \n"
   ]
  },
  {
   "cell_type": "code",
   "execution_count": null,
   "metadata": {},
   "outputs": [],
   "source": [
    "print(stats.report(detailed=True))\n"
   ]
  },
  {
   "cell_type": "code",
   "execution_count": 1,
   "metadata": {},
   "outputs": [],
   "source": [
    "%load_ext autoreload\n",
    "%autoreload 2\n"
   ]
  },
  {
   "cell_type": "code",
   "execution_count": null,
   "metadata": {},
   "outputs": [],
   "source": [
    "from pow.compute.compute import Compute\n",
    "from pow.models.utils import Params\n",
    "\n",
    "BLOCK_HASH = \"some-shared-hash\"\n",
    "PUBLIC_KEY = \"public_key_1\"\n",
    "R_TARGET = 1.39635417620795\n",
    "\n",
    "c = Compute(\n",
    "    params=Params(),\n",
    "    chain_hash=BLOCK_HASH,\n",
    "    public_key=PUBLIC_KEY,\n",
    "    r_target=R_TARGET\n",
    ")"
   ]
  },
  {
   "cell_type": "code",
   "execution_count": null,
   "metadata": {},
   "outputs": [],
   "source": [
    "nonces = [0, 1, 2, 3, 1]\n",
    "\n",
    "batch = c(\n",
    "    nonces=nonces,\n",
    "    public_key=c.public_key,\n",
    "    target=c.target,\n",
    "    next_nonces=None\n",
    ")"
   ]
  },
  {
   "cell_type": "code",
   "execution_count": 5,
   "metadata": {},
   "outputs": [],
   "source": [
    "batch = batch.result()"
   ]
  },
  {
   "cell_type": "code",
   "execution_count": null,
   "metadata": {},
   "outputs": [],
   "source": [
    "v_batch = c.validate(batch)"
   ]
  },
  {
   "cell_type": "code",
   "execution_count": 9,
   "metadata": {},
   "outputs": [],
   "source": [
    "for d1, d2 in zip(batch.dist, v_batch.dist):\n",
    "    assert d1 == d2\n"
   ]
  },
  {
   "cell_type": "code",
   "execution_count": null,
   "metadata": {},
   "outputs": [],
   "source": []
  },
  {
   "cell_type": "code",
   "execution_count": null,
   "metadata": {},
   "outputs": [],
   "source": []
  },
  {
   "cell_type": "code",
   "execution_count": 6,
   "metadata": {},
   "outputs": [
    {
     "name": "stdout",
     "output_type": "stream",
     "text": [
      "The autoreload extension is already loaded. To reload it, use:\n",
      "  %reload_ext autoreload\n"
     ]
    }
   ],
   "source": [
    "%load_ext autoreload\n",
    "%autoreload 2\n",
    "\n",
    "import requests\n",
    "\n",
    "\n",
    "from pow.models.utils import Params\n",
    "\n",
    "URL = \"http://localhost:8000\"\n",
    "BLOCK_HASH = \"some-shared-hash\"\n",
    "PUBLIC_KEY = \"public_key_1\"\n",
    "R_TARGET = 1.40635417620795\n",
    "\n"
   ]
  },
  {
   "cell_type": "code",
   "execution_count": 17,
   "metadata": {},
   "outputs": [
    {
     "data": {
      "text/plain": [
       "{'status': 'NOT_LOADED'}"
      ]
     },
     "execution_count": 17,
     "metadata": {},
     "output_type": "execute_result"
    }
   ],
   "source": [
    "client.get_status(\n",
    "    url=URL\n",
    ")\n"
   ]
  },
  {
   "cell_type": "code",
   "execution_count": 25,
   "metadata": {},
   "outputs": [
    {
     "data": {
      "text/plain": [
       "{'public_key': '', 'chain_hash': '', 'nonces': [], 'dist': []}"
      ]
     },
     "execution_count": 25,
     "metadata": {},
     "output_type": "execute_result"
    }
   ],
   "source": [
    "client.init_gen(\n",
    "    url=URL,\n",
    "    params=Params(),\n",
    "    chain_hash=BLOCK_HASH,\n",
    "    public_key=PUBLIC_KEY,\n",
    "    r_target=R_TARGET,\n",
    "    batch_size=10\n",
    ")\n"
   ]
  },
  {
   "cell_type": "code",
   "execution_count": 80,
   "metadata": {},
   "outputs": [
    {
     "data": {
      "text/plain": [
       "[]"
      ]
     },
     "execution_count": 80,
     "metadata": {},
     "output_type": "execute_result"
    }
   ],
   "source": [
    "client.init_val(\n",
    "    url=URL,\n",
    "    params=Params(),\n",
    "    chain_hash=BLOCK_HASH,\n",
    "    public_key=PUBLIC_KEY,\n",
    "    r_target=R_TARGET,\n",
    "    batch_size=100\n",
    ")\n"
   ]
  },
  {
   "cell_type": "code",
   "execution_count": 81,
   "metadata": {},
   "outputs": [],
   "source": [
    "from pow.data import ProofBatch\n",
    "b1 = ProofBatch(\n",
    "    public_key=PUBLIC_KEY,\n",
    "    chain_hash=BLOCK_HASH,\n",
    "    nonces=[0, 1, 2, 3, 4]*14,\n",
    "    dist=[1.39, 1.39, 1.39, 1.39, 1.40]*14\n",
    ")\n",
    "b2 = ProofBatch(\n",
    "    public_key=PUBLIC_KEY + \"1\",\n",
    "    chain_hash=BLOCK_HASH,\n",
    "    nonces=[0, 1, 2, 3, 4]*13,\n",
    "    dist=[1.39, 1.39, 1.39, 1.39, 1.40]*13\n",
    ")\n",
    "\n"
   ]
  },
  {
   "cell_type": "code",
   "execution_count": 82,
   "metadata": {},
   "outputs": [],
   "source": [
    "client.validate(\n",
    "    url=URL,\n",
    "    to_validate=b1.__dict__\n",
    ")\n",
    "client.validate(\n",
    "    url=URL,\n",
    "    to_validate=b2.__dict__\n",
    ")"
   ]
  },
  {
   "cell_type": "code",
   "execution_count": 83,
   "metadata": {},
   "outputs": [],
   "source": [
    "for i in range(10):\n",
    "    client.validate(\n",
    "        url=URL,\n",
    "        to_validate=b1.__dict__\n",
    "    )\n",
    "    client.validate(\n",
    "        url=URL,\n",
    "        to_validate=b2.__dict__\n",
    "    )\n",
    "\n"
   ]
  },
  {
   "cell_type": "code",
   "execution_count": 45,
   "metadata": {},
   "outputs": [
    {
     "ename": "Exception",
     "evalue": "{'detail': 'Controller not initialized'}",
     "output_type": "error",
     "traceback": [
      "\u001b[0;31m---------------------------------------------------------------------------\u001b[0m",
      "\u001b[0;31mException\u001b[0m                                 Traceback (most recent call last)",
      "Cell \u001b[0;32mIn[45], line 1\u001b[0m\n\u001b[0;32m----> 1\u001b[0m validated \u001b[38;5;241m=\u001b[39m \u001b[43mclient\u001b[49m\u001b[38;5;241;43m.\u001b[39;49m\u001b[43mget_validated\u001b[49m\u001b[43m(\u001b[49m\n\u001b[1;32m      2\u001b[0m \u001b[43m    \u001b[49m\u001b[43murl\u001b[49m\u001b[38;5;241;43m=\u001b[39;49m\u001b[43mURL\u001b[49m\n\u001b[1;32m      3\u001b[0m \u001b[43m)\u001b[49m\n\u001b[1;32m      4\u001b[0m b \u001b[38;5;241m=\u001b[39m ProofBatch(\u001b[38;5;241m*\u001b[39m\u001b[38;5;241m*\u001b[39mvalidated)\n",
      "File \u001b[0;32m~/workspace/pow/src/pow/app/client.py:101\u001b[0m, in \u001b[0;36mget_validated\u001b[0;34m(url)\u001b[0m\n\u001b[1;32m     97\u001b[0m resp \u001b[38;5;241m=\u001b[39m requests\u001b[38;5;241m.\u001b[39mget(\n\u001b[1;32m     98\u001b[0m     \u001b[38;5;124mf\u001b[39m\u001b[38;5;124m\"\u001b[39m\u001b[38;5;132;01m{\u001b[39;00murl\u001b[38;5;132;01m}\u001b[39;00m\u001b[38;5;124m/api/v0/validated\u001b[39m\u001b[38;5;124m\"\u001b[39m\n\u001b[1;32m     99\u001b[0m )\n\u001b[1;32m    100\u001b[0m \u001b[38;5;28;01mif\u001b[39;00m resp\u001b[38;5;241m.\u001b[39mstatus_code \u001b[38;5;241m!=\u001b[39m \u001b[38;5;241m200\u001b[39m:\n\u001b[0;32m--> 101\u001b[0m     \u001b[38;5;28;01mraise\u001b[39;00m \u001b[38;5;167;01mException\u001b[39;00m(resp\u001b[38;5;241m.\u001b[39mjson())\n\u001b[1;32m    102\u001b[0m \u001b[38;5;28;01mreturn\u001b[39;00m resp\u001b[38;5;241m.\u001b[39mjson()\n",
      "\u001b[0;31mException\u001b[0m: {'detail': 'Controller not initialized'}"
     ]
    }
   ],
   "source": [
    "validated = client.get_validated(\n",
    "    url=URL\n",
    ")\n",
    "b = ProofBatch(**validated)\n"
   ]
  },
  {
   "cell_type": "code",
   "execution_count": 42,
   "metadata": {},
   "outputs": [
    {
     "data": {
      "text/plain": [
       "[{'public_key': 'public_key_1',\n",
       "  'chain_hash': 'some-shared-hash',\n",
       "  'nonces': [0, 1, 2, 3, 4],\n",
       "  'dist': [1.3967563996510846,\n",
       "   1.4141255339524132,\n",
       "   1.4062950293203806,\n",
       "   1.4176537084130907,\n",
       "   1.4150117947519663]}]"
      ]
     },
     "execution_count": 42,
     "metadata": {},
     "output_type": "execute_result"
    }
   ],
   "source": [
    "validated"
   ]
  },
  {
   "cell_type": "code",
   "execution_count": 93,
   "metadata": {},
   "outputs": [
    {
     "data": {
      "text/plain": [
       "ValidatedBatch(public_key='public_key_1', chain_hash='some-shared-hash', nonces=[1, 2, 3], dist=[1.39, 1.39, 1.39], valid_dist=[1.39, 1.39, 1.39])"
      ]
     },
     "execution_count": 93,
     "metadata": {},
     "output_type": "execute_result"
    }
   ],
   "source": [
    "from pow.app.sender import ValidatedBatch\n",
    "v_batch = ValidatedBatch(\n",
    "    public_key=PUBLIC_KEY,\n",
    "    chain_hash=BLOCK_HASH,\n",
    "    nonces=[1, 2, 3],\n",
    "    dist=[1.39, 1.39, 1.39],\n",
    "    valid_dist=[1.39, 1.39, 1.39]\n",
    ")\n",
    "v_batch"
   ]
  },
  {
   "cell_type": "code",
   "execution_count": 26,
   "metadata": {},
   "outputs": [
    {
     "data": {
      "text/plain": [
       "{'status': 'GENERATING',\n",
       " 'is_model_initialized': False,\n",
       " 'details': 'Model is still loading'}"
      ]
     },
     "execution_count": 26,
     "metadata": {},
     "output_type": "execute_result"
    }
   ],
   "source": [
    "from pow.app.client_v1 import ClientV1\n",
    "import pow.app.client_v0 as client_v0\n",
    "client = ClientV1(\n",
    "    base_url=\"http://localhost:8000\"\n",
    ")\n",
    "client.init_generate(\n",
    "    url=URL,\n",
    "    chain_hash=BLOCK_HASH,\n",
    "    public_key=PUBLIC_KEY,\n",
    "    batch_size=10,\n",
    "    r_target=R_TARGET\n",
    ")"
   ]
  },
  {
   "cell_type": "code",
   "execution_count": 23,
   "metadata": {},
   "outputs": [
    {
     "data": {
      "text/plain": [
       "{'status': 'GENERATING'}"
      ]
     },
     "execution_count": 23,
     "metadata": {},
     "output_type": "execute_result"
    }
   ],
   "source": [
    "client.status()"
   ]
  },
  {
   "cell_type": "code",
   "execution_count": 146,
   "metadata": {},
   "outputs": [
    {
     "data": {
      "text/plain": [
       "{'status': 'VALIDATING',\n",
       " 'is_model_initialized': False,\n",
       " 'details': 'Model is still loading'}"
      ]
     },
     "execution_count": 146,
     "metadata": {},
     "output_type": "execute_result"
    }
   ],
   "source": [
    "client.init_validate(\n",
    "    url=URL,\n",
    "    chain_hash=BLOCK_HASH,\n",
    "    public_key=PUBLIC_KEY,\n",
    "    batch_size=10,\n",
    "    r_target=R_TARGET\n",
    ")"
   ]
  },
  {
   "cell_type": "code",
   "execution_count": 24,
   "metadata": {},
   "outputs": [
    {
     "data": {
      "text/plain": [
       "{'status': 'GENERATING'}"
      ]
     },
     "execution_count": 24,
     "metadata": {},
     "output_type": "execute_result"
    }
   ],
   "source": [
    "generated = client_v0.get_generated(\n",
    "    url=URL\n",
    ")\n",
    "client.status()"
   ]
  },
  {
   "cell_type": "code",
   "execution_count": 147,
   "metadata": {},
   "outputs": [],
   "source": [
    "client.validate(\n",
    "    ProofBatch(**generated)\n",
    ")"
   ]
  },
  {
   "cell_type": "code",
   "execution_count": null,
   "metadata": {},
   "outputs": [],
   "source": []
  }
 ],
 "metadata": {
  "kernelspec": {
   "display_name": "pow-q10pOv6v-py3.11",
   "language": "python",
   "name": "python3"
  },
  "language_info": {
   "codemirror_mode": {
    "name": "ipython",
    "version": 3
   },
   "file_extension": ".py",
   "mimetype": "text/x-python",
   "name": "python",
   "nbconvert_exporter": "python",
   "pygments_lexer": "ipython3",
   "version": "3.12.6"
  }
 },
 "nbformat": 4,
 "nbformat_minor": 2
}
