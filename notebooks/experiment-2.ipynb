{
 "cells": [
  {
   "cell_type": "code",
   "execution_count": 1,
   "metadata": {},
   "outputs": [],
   "source": [
    "%load_ext autoreload\n",
    "%autoreload 2\n"
   ]
  },
  {
   "cell_type": "code",
   "execution_count": 2,
   "metadata": {},
   "outputs": [],
   "source": [
    "from pow.models.llama31 import Llama\n",
    "from pow.compute.utils import (\n",
    "    count_params,\n",
    "    get_rng,\n",
    "    initialize_model_weights_from_rng,\n",
    "    get_random_emb,\n",
    "    get_uniform_vector_on_sphere\n",
    ")\n",
    "from pow.compute.stats import (\n",
    "    estimate_R_from_experiment\n",
    ")\n",
    "import numpy as np\n",
    "import torch\n",
    "\n",
    "torch.set_default_dtype(torch.float32)\n",
    "\n"
   ]
  },
  {
   "cell_type": "code",
   "execution_count": 3,
   "metadata": {},
   "outputs": [],
   "source": [
    "def get_model(\n",
    "    hash_: str,\n",
    "):\n",
    "    model = Llama.build(\n",
    "        params_path=\"../resources/llama31-8b/params.json\",\n",
    "        tokenizer_path=\"../resources/llama31-8b/tokenizer.model\",\n",
    "        max_seq_len=1024,\n",
    "        max_batch_size=1,\n",
    "        flash=False,\n",
    "        model_parallel_size=1,\n",
    "        seed=1,\n",
    "    )\n",
    "    model.model.eval()\n",
    "    model.model.requires_grad_(False)\n",
    "\n",
    "    count_params(model.model)\n",
    "    rng = get_rng(str(hash_), 4)\n",
    "    initialize_model_weights_from_rng(model.model, rng)\n",
    "    model.to_cuda()\n",
    "    \n",
    "    return model"
   ]
  },
  {
   "cell_type": "code",
   "execution_count": 4,
   "metadata": {},
   "outputs": [
    {
     "name": "stdout",
     "output_type": "stream",
     "text": [
      "Creating model...\n",
      "Loaded in 2.15 seconds\n",
      "Total number of parameters: 0.28B\n"
     ]
    },
    {
     "data": {
      "application/vnd.jupyter.widget-view+json": {
       "model_id": "e0403de4e2ab4fd0805eaba1c8ddc596",
       "version_major": 2,
       "version_minor": 0
      },
      "text/plain": [
       "0it [00:00, ?it/s]"
      ]
     },
     "metadata": {},
     "output_type": "display_data"
    },
    {
     "name": "stderr",
     "output_type": "stream",
     "text": [
      "/home/morgachev/.cache/pypoetry/virtualenvs/proof-of-work-q10pOv6v-py3.11/lib/python3.11/site-packages/torch/__init__.py:955: UserWarning: torch.set_default_tensor_type() is deprecated as of PyTorch 2.1, please use torch.set_default_dtype() and torch.set_default_device() as alternatives. (Triggered internally at ../torch/csrc/tensor/python_tensor.cpp:432.)\n",
      "  _C._set_default_tensor_type(t)\n"
     ]
    }
   ],
   "source": [
    "model = get_model(\n",
    "    \"some-shared-hash\"\n",
    ")"
   ]
  },
  {
   "cell_type": "code",
   "execution_count": 5,
   "metadata": {},
   "outputs": [],
   "source": [
    "def get_input(\n",
    "    public_key: str,\n",
    "    nonce: str,\n",
    "    batch_size: int = 256,\n",
    "    seq_len: int = 16,\n",
    "):\n",
    "    emb = get_random_emb(\n",
    "        seed_string=f\"{public_key}__nonce{nonce}\",\n",
    "        batch_size=batch_size,\n",
    "        seq_len=seq_len,\n",
    "        dim=model.model.params.dim\n",
    "    )\n",
    "    emb = torch.tensor(\n",
    "        emb,\n",
    "        dtype=torch.get_default_dtype()\n",
    "    ).cuda()\n",
    "    return emb\n",
    "\n",
    "\n",
    "def get_target(     \n",
    "    public_key: str,\n",
    "):\n",
    "    rng = get_rng(f\"{public_key}_target\", 1)\n",
    "    target = get_uniform_vector_on_sphere(\n",
    "        rng,\n",
    "        dim=model.model.params.vocab_size,\n",
    "        batch_size=1\n",
    "    )[0]\n",
    "    return target\n"
   ]
  },
  {
   "cell_type": "code",
   "execution_count": 6,
   "metadata": {},
   "outputs": [],
   "source": [
    "PUBLIC_KEY = \"public_key\"\n",
    "target = get_target(PUBLIC_KEY)"
   ]
  },
  {
   "cell_type": "code",
   "execution_count": 7,
   "metadata": {},
   "outputs": [],
   "source": [
    "emb = get_input(PUBLIC_KEY, 42)\n",
    "output_np = model.model.forward_embedding(\n",
    "    emb, 0\n",
    ")[:, -1, :].cpu().numpy()\n",
    "output_np = output_np / np.linalg.norm(output_np, axis=1, keepdims=True)"
   ]
  },
  {
   "cell_type": "code",
   "execution_count": 8,
   "metadata": {},
   "outputs": [
    {
     "data": {
      "text/plain": [
       "array([[ 0.01900132,  0.00163192,  0.00487959, ...,  0.03257369,\n",
       "         0.00791722,  0.00465338],\n",
       "       [-0.01372835, -0.00750037, -0.01366138, ...,  0.02290291,\n",
       "        -0.0099112 , -0.01024604],\n",
       "       [-0.02920376,  0.02591676, -0.01757283, ..., -0.00805948,\n",
       "        -0.00679525, -0.01049313],\n",
       "       ...,\n",
       "       [ 0.03938323, -0.0130425 ,  0.00364423, ...,  0.01540805,\n",
       "        -0.004827  ,  0.00255735],\n",
       "       [-0.00659008,  0.00364918,  0.00274073, ...,  0.01564374,\n",
       "         0.00856094, -0.00415729],\n",
       "       [-0.00081201,  0.02775027, -0.00529778, ..., -0.00271196,\n",
       "         0.01545186,  0.00116677]], dtype=float32)"
      ]
     },
     "execution_count": 8,
     "metadata": {},
     "output_type": "execute_result"
    }
   ],
   "source": [
    "output_np"
   ]
  },
  {
   "cell_type": "code",
   "execution_count": 9,
   "metadata": {},
   "outputs": [
    {
     "data": {
      "image/png": "[encoded data removed]",
      "text/plain": [
       "<Figure size 640x480 with 1 Axes>"
      ]
     },
     "metadata": {},
     "output_type": "display_data"
    }
   ],
   "source": [
    "import matplotlib.pyplot as plt\n",
    "\n",
    "def plot_tesor_distribution(\n",
    "    t: np.ndarray\n",
    "):\n",
    "    plt.hist(t.flatten())\n",
    "    plt.show()\n",
    "\n",
    "plot_tesor_distribution(output_np)"
   ]
  },
  {
   "cell_type": "code",
   "execution_count": 13,
   "metadata": {},
   "outputs": [
    {
     "data": {
      "image/png": "[encoded data removed]",
      "text/plain": [
       "<Figure size 640x480 with 1 Axes>"
      ]
     },
     "metadata": {},
     "output_type": "display_data"
    }
   ],
   "source": [
    "def compute_distance(\n",
    "    output_np: np.ndarray,\n",
    "    target: np.ndarray,\n",
    "):\n",
    "    return np.linalg.norm(\n",
    "        output_np - target,\n",
    "        axis=1\n",
    "    )\n",
    "\n",
    "distances = compute_distance(\n",
    "    output_np,\n",
    "    target\n",
    ")\n",
    "\n",
    "plt.hist(distances)\n",
    "plt.show()"
   ]
  },
  {
   "cell_type": "code",
   "execution_count": 14,
   "metadata": {},
   "outputs": [
    {
     "name": "stdout",
     "output_type": "stream",
     "text": [
      "Fri Oct  4 06:15:18 2024       \n",
      "+---------------------------------------------------------------------------------------+\n",
      "| NVIDIA-SMI 535.183.01             Driver Version: 535.183.01   CUDA Version: 12.2     |\n",
      "|-----------------------------------------+----------------------+----------------------+\n",
      "| GPU  Name                 Persistence-M | Bus-Id        Disp.A | Volatile Uncorr. ECC |\n",
      "| Fan  Temp   Perf          Pwr:Usage/Cap |         Memory-Usage | GPU-Util  Compute M. |\n",
      "|                                         |                      |               MIG M. |\n",
      "|=========================================+======================+======================|\n",
      "|   0  Tesla P4                       On  | 00000000:00:04.0 Off |                    0 |\n",
      "| N/A   53C    P0              24W /  75W |    954MiB /  7680MiB |      0%      Default |\n",
      "|                                         |                      |                  N/A |\n",
      "+-----------------------------------------+----------------------+----------------------+\n",
      "                                                                                         \n",
      "+---------------------------------------------------------------------------------------+\n",
      "| Processes:                                                                            |\n",
      "|  GPU   GI   CI        PID   Type   Process name                            GPU Memory |\n",
      "|        ID   ID                                                             Usage      |\n",
      "|=======================================================================================|\n",
      "|    0   N/A  N/A     36069      C   ...-of-work-q10pOv6v-py3.11/bin/python      952MiB |\n",
      "+---------------------------------------------------------------------------------------+\n"
     ]
    }
   ],
   "source": [
    "!nvidia-smi"
   ]
  },
  {
   "cell_type": "code",
   "execution_count": 31,
   "metadata": {},
   "outputs": [
    {
     "name": "stdout",
     "output_type": "stream",
     "text": [
      "Estimated R from experiment: 1.3722405606823325\n"
     ]
    }
   ],
   "source": [
    "# Example usage:\n",
    "n = 4096\n",
    "P = 0.0001\n",
    "R_estimated = estimate_R_from_experiment(n, P, num_samples=100000)\n",
    "print(f\"Estimated R from experiment: {R_estimated}\")"
   ]
  },
  {
   "cell_type": "code",
   "execution_count": 32,
   "metadata": {},
   "outputs": [],
   "source": [
    "all_distances = []\n",
    "for i in range(400):\n",
    "    emb = get_input(PUBLIC_KEY, i)\n",
    "    output_np = model.model.forward_embedding(\n",
    "        emb, 0\n",
    "    )[:, -1, :].cpu().numpy()\n",
    "    output_np = output_np / np.linalg.norm(output_np, axis=1, keepdims=True)\n",
    "    distances = compute_distance(\n",
    "        output_np,\n",
    "        target\n",
    "    )\n",
    "    all_distances.extend(distances)\n"
   ]
  },
  {
   "cell_type": "code",
   "execution_count": 33,
   "metadata": {},
   "outputs": [],
   "source": [
    "R_estimated = 1.3722405606823325"
   ]
  },
  {
   "cell_type": "code",
   "execution_count": 34,
   "metadata": {},
   "outputs": [
    {
     "data": {
      "image/png": "[encoded data removed]",
      "text/plain": [
       "<Figure size 640x480 with 1 Axes>"
      ]
     },
     "metadata": {},
     "output_type": "display_data"
    },
    {
     "data": {
      "text/plain": [
       "np.float64(6.8359375e-05)"
      ]
     },
     "execution_count": 34,
     "metadata": {},
     "output_type": "execute_result"
    }
   ],
   "source": [
    "all_distances = np.array(all_distances)\n",
    "plt.hist(distances)\n",
    "plt.show()\n",
    "\n",
    "(all_distances < R_estimated).sum() / len(all_distances)\n",
    "\n"
   ]
  },
  {
   "cell_type": "code",
   "execution_count": 35,
   "metadata": {},
   "outputs": [
    {
     "data": {
      "text/plain": [
       "np.float64(14628.571428571428)"
      ]
     },
     "execution_count": 35,
     "metadata": {},
     "output_type": "execute_result"
    }
   ],
   "source": [
    "1 / ((all_distances < R_estimated).sum() / len(all_distances))"
   ]
  },
  {
   "cell_type": "code",
   "execution_count": 36,
   "metadata": {},
   "outputs": [
    {
     "data": {
      "text/plain": [
       "102400"
      ]
     },
     "execution_count": 36,
     "metadata": {},
     "output_type": "execute_result"
    }
   ],
   "source": [
    "len(all_distances)"
   ]
  },
  {
   "cell_type": "code",
   "execution_count": null,
   "metadata": {},
   "outputs": [],
   "source": []
  }
 ],
 "metadata": {
  "kernelspec": {
   "display_name": "proof-of-work-q10pOv6v-py3.11",
   "language": "python",
   "name": "python3"
  },
  "language_info": {
   "codemirror_mode": {
    "name": "ipython",
    "version": 3
   },
   "file_extension": ".py",
   "mimetype": "text/x-python",
   "name": "python",
   "nbconvert_exporter": "python",
   "pygments_lexer": "ipython3",
   "version": "3.11.2"
  }
 },
 "nbformat": 4,
 "nbformat_minor": 2
}
